{
  "cells": [
    {
      "cell_type": "markdown",
      "metadata": {
        "id": "view-in-github",
        "colab_type": "text"
      },
      "source": [
        "<a href=\"https://colab.research.google.com/github/Chineze9/Neural_Network_Charity_Analysis_19/blob/main/AlphabetSoupCharity_Optimization_h5.ipynb\" target=\"_parent\"><img src=\"https://colab.research.google.com/assets/colab-badge.svg\" alt=\"Open In Colab\"/></a>"
      ]
    },
    {
      "cell_type": "code",
      "execution_count": null,
      "id": "23fb0ffc",
      "metadata": {
        "id": "23fb0ffc",
        "outputId": "434a3932-b17a-440b-ffb9-5148c61e561c",
        "colab": {
          "base_uri": "https://localhost:8080/",
          "height": 496
        }
      },
      "outputs": [
        {
          "output_type": "execute_result",
          "data": {
            "text/plain": [
              "        EIN                                      NAME APPLICATION_TYPE  \\\n",
              "0  10520599              BLUE KNIGHTS MOTORCYCLE CLUB              T10   \n",
              "1  10531628    AMERICAN CHESAPEAKE CLUB CHARITABLE TR               T3   \n",
              "2  10547893        ST CLOUD PROFESSIONAL FIREFIGHTERS               T5   \n",
              "3  10553066            SOUTHSIDE ATHLETIC ASSOCIATION               T3   \n",
              "4  10556103  GENETIC RESEARCH INSTITUTE OF THE DESERT               T3   \n",
              "\n",
              "        AFFILIATION CLASSIFICATION      USE_CASE  ORGANIZATION  STATUS  \\\n",
              "0       Independent          C1000    ProductDev   Association       1   \n",
              "1       Independent          C2000  Preservation  Co-operative       1   \n",
              "2  CompanySponsored          C3000    ProductDev   Association       1   \n",
              "3  CompanySponsored          C2000  Preservation         Trust       1   \n",
              "4       Independent          C1000     Heathcare         Trust       1   \n",
              "\n",
              "      INCOME_AMT SPECIAL_CONSIDERATIONS  ASK_AMT  IS_SUCCESSFUL  \n",
              "0              0                      N     5000              1  \n",
              "1         1-9999                      N   108590              1  \n",
              "2              0                      N     5000              0  \n",
              "3    10000-24999                      N     6692              1  \n",
              "4  100000-499999                      N   142590              1  "
            ],
            "text/html": [
              "\n",
              "  <div id=\"df-e5c4d59b-3d43-440a-a203-2b433625ba24\">\n",
              "    <div class=\"colab-df-container\">\n",
              "      <div>\n",
              "<style scoped>\n",
              "    .dataframe tbody tr th:only-of-type {\n",
              "        vertical-align: middle;\n",
              "    }\n",
              "\n",
              "    .dataframe tbody tr th {\n",
              "        vertical-align: top;\n",
              "    }\n",
              "\n",
              "    .dataframe thead th {\n",
              "        text-align: right;\n",
              "    }\n",
              "</style>\n",
              "<table border=\"1\" class=\"dataframe\">\n",
              "  <thead>\n",
              "    <tr style=\"text-align: right;\">\n",
              "      <th></th>\n",
              "      <th>EIN</th>\n",
              "      <th>NAME</th>\n",
              "      <th>APPLICATION_TYPE</th>\n",
              "      <th>AFFILIATION</th>\n",
              "      <th>CLASSIFICATION</th>\n",
              "      <th>USE_CASE</th>\n",
              "      <th>ORGANIZATION</th>\n",
              "      <th>STATUS</th>\n",
              "      <th>INCOME_AMT</th>\n",
              "      <th>SPECIAL_CONSIDERATIONS</th>\n",
              "      <th>ASK_AMT</th>\n",
              "      <th>IS_SUCCESSFUL</th>\n",
              "    </tr>\n",
              "  </thead>\n",
              "  <tbody>\n",
              "    <tr>\n",
              "      <th>0</th>\n",
              "      <td>10520599</td>\n",
              "      <td>BLUE KNIGHTS MOTORCYCLE CLUB</td>\n",
              "      <td>T10</td>\n",
              "      <td>Independent</td>\n",
              "      <td>C1000</td>\n",
              "      <td>ProductDev</td>\n",
              "      <td>Association</td>\n",
              "      <td>1</td>\n",
              "      <td>0</td>\n",
              "      <td>N</td>\n",
              "      <td>5000</td>\n",
              "      <td>1</td>\n",
              "    </tr>\n",
              "    <tr>\n",
              "      <th>1</th>\n",
              "      <td>10531628</td>\n",
              "      <td>AMERICAN CHESAPEAKE CLUB CHARITABLE TR</td>\n",
              "      <td>T3</td>\n",
              "      <td>Independent</td>\n",
              "      <td>C2000</td>\n",
              "      <td>Preservation</td>\n",
              "      <td>Co-operative</td>\n",
              "      <td>1</td>\n",
              "      <td>1-9999</td>\n",
              "      <td>N</td>\n",
              "      <td>108590</td>\n",
              "      <td>1</td>\n",
              "    </tr>\n",
              "    <tr>\n",
              "      <th>2</th>\n",
              "      <td>10547893</td>\n",
              "      <td>ST CLOUD PROFESSIONAL FIREFIGHTERS</td>\n",
              "      <td>T5</td>\n",
              "      <td>CompanySponsored</td>\n",
              "      <td>C3000</td>\n",
              "      <td>ProductDev</td>\n",
              "      <td>Association</td>\n",
              "      <td>1</td>\n",
              "      <td>0</td>\n",
              "      <td>N</td>\n",
              "      <td>5000</td>\n",
              "      <td>0</td>\n",
              "    </tr>\n",
              "    <tr>\n",
              "      <th>3</th>\n",
              "      <td>10553066</td>\n",
              "      <td>SOUTHSIDE ATHLETIC ASSOCIATION</td>\n",
              "      <td>T3</td>\n",
              "      <td>CompanySponsored</td>\n",
              "      <td>C2000</td>\n",
              "      <td>Preservation</td>\n",
              "      <td>Trust</td>\n",
              "      <td>1</td>\n",
              "      <td>10000-24999</td>\n",
              "      <td>N</td>\n",
              "      <td>6692</td>\n",
              "      <td>1</td>\n",
              "    </tr>\n",
              "    <tr>\n",
              "      <th>4</th>\n",
              "      <td>10556103</td>\n",
              "      <td>GENETIC RESEARCH INSTITUTE OF THE DESERT</td>\n",
              "      <td>T3</td>\n",
              "      <td>Independent</td>\n",
              "      <td>C1000</td>\n",
              "      <td>Heathcare</td>\n",
              "      <td>Trust</td>\n",
              "      <td>1</td>\n",
              "      <td>100000-499999</td>\n",
              "      <td>N</td>\n",
              "      <td>142590</td>\n",
              "      <td>1</td>\n",
              "    </tr>\n",
              "  </tbody>\n",
              "</table>\n",
              "</div>\n",
              "      <button class=\"colab-df-convert\" onclick=\"convertToInteractive('df-e5c4d59b-3d43-440a-a203-2b433625ba24')\"\n",
              "              title=\"Convert this dataframe to an interactive table.\"\n",
              "              style=\"display:none;\">\n",
              "        \n",
              "  <svg xmlns=\"http://www.w3.org/2000/svg\" height=\"24px\"viewBox=\"0 0 24 24\"\n",
              "       width=\"24px\">\n",
              "    <path d=\"M0 0h24v24H0V0z\" fill=\"none\"/>\n",
              "    <path d=\"M18.56 5.44l.94 2.06.94-2.06 2.06-.94-2.06-.94-.94-2.06-.94 2.06-2.06.94zm-11 1L8.5 8.5l.94-2.06 2.06-.94-2.06-.94L8.5 2.5l-.94 2.06-2.06.94zm10 10l.94 2.06.94-2.06 2.06-.94-2.06-.94-.94-2.06-.94 2.06-2.06.94z\"/><path d=\"M17.41 7.96l-1.37-1.37c-.4-.4-.92-.59-1.43-.59-.52 0-1.04.2-1.43.59L10.3 9.45l-7.72 7.72c-.78.78-.78 2.05 0 2.83L4 21.41c.39.39.9.59 1.41.59.51 0 1.02-.2 1.41-.59l7.78-7.78 2.81-2.81c.8-.78.8-2.07 0-2.86zM5.41 20L4 18.59l7.72-7.72 1.47 1.35L5.41 20z\"/>\n",
              "  </svg>\n",
              "      </button>\n",
              "      \n",
              "  <style>\n",
              "    .colab-df-container {\n",
              "      display:flex;\n",
              "      flex-wrap:wrap;\n",
              "      gap: 12px;\n",
              "    }\n",
              "\n",
              "    .colab-df-convert {\n",
              "      background-color: #E8F0FE;\n",
              "      border: none;\n",
              "      border-radius: 50%;\n",
              "      cursor: pointer;\n",
              "      display: none;\n",
              "      fill: #1967D2;\n",
              "      height: 32px;\n",
              "      padding: 0 0 0 0;\n",
              "      width: 32px;\n",
              "    }\n",
              "\n",
              "    .colab-df-convert:hover {\n",
              "      background-color: #E2EBFA;\n",
              "      box-shadow: 0px 1px 2px rgba(60, 64, 67, 0.3), 0px 1px 3px 1px rgba(60, 64, 67, 0.15);\n",
              "      fill: #174EA6;\n",
              "    }\n",
              "\n",
              "    [theme=dark] .colab-df-convert {\n",
              "      background-color: #3B4455;\n",
              "      fill: #D2E3FC;\n",
              "    }\n",
              "\n",
              "    [theme=dark] .colab-df-convert:hover {\n",
              "      background-color: #434B5C;\n",
              "      box-shadow: 0px 1px 3px 1px rgba(0, 0, 0, 0.15);\n",
              "      filter: drop-shadow(0px 1px 2px rgba(0, 0, 0, 0.3));\n",
              "      fill: #FFFFFF;\n",
              "    }\n",
              "  </style>\n",
              "\n",
              "      <script>\n",
              "        const buttonEl =\n",
              "          document.querySelector('#df-e5c4d59b-3d43-440a-a203-2b433625ba24 button.colab-df-convert');\n",
              "        buttonEl.style.display =\n",
              "          google.colab.kernel.accessAllowed ? 'block' : 'none';\n",
              "\n",
              "        async function convertToInteractive(key) {\n",
              "          const element = document.querySelector('#df-e5c4d59b-3d43-440a-a203-2b433625ba24');\n",
              "          const dataTable =\n",
              "            await google.colab.kernel.invokeFunction('convertToInteractive',\n",
              "                                                     [key], {});\n",
              "          if (!dataTable) return;\n",
              "\n",
              "          const docLinkHtml = 'Like what you see? Visit the ' +\n",
              "            '<a target=\"_blank\" href=https://colab.research.google.com/notebooks/data_table.ipynb>data table notebook</a>'\n",
              "            + ' to learn more about interactive tables.';\n",
              "          element.innerHTML = '';\n",
              "          dataTable['output_type'] = 'display_data';\n",
              "          await google.colab.output.renderOutput(dataTable, element);\n",
              "          const docLink = document.createElement('div');\n",
              "          docLink.innerHTML = docLinkHtml;\n",
              "          element.appendChild(docLink);\n",
              "        }\n",
              "      </script>\n",
              "    </div>\n",
              "  </div>\n",
              "  "
            ]
          },
          "metadata": {},
          "execution_count": 5
        }
      ],
      "source": [
        "# Import our dependencies\n",
        "from sklearn.model_selection import train_test_split\n",
        "from sklearn.preprocessing import StandardScaler,OneHotEncoder\n",
        "import pandas as pd\n",
        "import tensorflow as tf\n",
        "\n",
        "#  Import and read the charity_data.csv.\n",
        "import pandas as pd \n",
        "application_df = pd.read_csv(\"https://raw.githubusercontent.com/Chineze9/Neural_Network_Charity_Analysis_19/main/charity_data.csv\")\n",
        "application_df.head()"
      ]
    },
    {
      "cell_type": "code",
      "execution_count": null,
      "id": "77c9d658",
      "metadata": {
        "id": "77c9d658"
      },
      "outputs": [],
      "source": [
        "# Drop the non-beneficial ID columns, 'EIN' and 'NAME'.\n",
        "application_df.drop(['EIN', 'NAME', 'USE_CASE'], axis=1, inplace=True)"
      ]
    },
    {
      "cell_type": "code",
      "execution_count": null,
      "id": "fc57bdfa",
      "metadata": {
        "id": "fc57bdfa"
      },
      "outputs": [],
      "source": [
        "# Determine the number of unique values in each column.\n",
        "application_df.nunique()"
      ]
    },
    {
      "cell_type": "code",
      "execution_count": null,
      "id": "3163f315",
      "metadata": {
        "id": "3163f315"
      },
      "outputs": [],
      "source": [
        "# Look at APPLICATION_TYPE value counts for binning\n",
        "application_type_counts = application_df['APPLICATION_TYPE'].value_counts()\n",
        "application_type_counts"
      ]
    },
    {
      "cell_type": "code",
      "execution_count": null,
      "id": "6d6e684e",
      "metadata": {
        "id": "6d6e684e"
      },
      "outputs": [],
      "source": [
        "# Visualize the value counts of APPLICATION_TYPE\n",
        "application_type_counts.plot.density()"
      ]
    },
    {
      "cell_type": "code",
      "execution_count": null,
      "id": "0479214b",
      "metadata": {
        "id": "0479214b"
      },
      "outputs": [],
      "source": [
        "# Determine which values to replace if counts are less than ...?\n",
        "replace_application = list(application_type_counts[application_type_counts < 500].index)\n",
        "\n",
        "# Replace in dataframe\n",
        "for app in replace_application:\n",
        "    application_df.APPLICATION_TYPE = application_df.APPLICATION_TYPE.replace(app,\"Other\")\n",
        "    \n",
        "# Check to make sure binning was successful\n",
        "application_df.APPLICATION_TYPE.value_counts()"
      ]
    },
    {
      "cell_type": "code",
      "execution_count": null,
      "id": "189626a5",
      "metadata": {
        "id": "189626a5"
      },
      "outputs": [],
      "source": [
        "# Look at CLASSIFICATION value counts for binning\n",
        "classification_value_counts = application_df['CLASSIFICATION'].value_counts()\n",
        "classification_value_counts"
      ]
    },
    {
      "cell_type": "code",
      "execution_count": null,
      "id": "31677cf3",
      "metadata": {
        "id": "31677cf3"
      },
      "outputs": [],
      "source": [
        "# Visualize the value counts of CLASSIFICATION\n",
        "classification_value_counts.plot.density()"
      ]
    },
    {
      "cell_type": "code",
      "execution_count": null,
      "id": "7f208250",
      "metadata": {
        "id": "7f208250"
      },
      "outputs": [],
      "source": [
        "# Determine which values to replace if counts are less than ..?\n",
        "replace_class = list(classification_value_counts[classification_value_counts < 500].index)\n",
        "\n",
        "# Replace in dataframe\n",
        "for cls in replace_class:\n",
        "    application_df.CLASSIFICATION = application_df.CLASSIFICATION.replace(cls,\"Other\")\n",
        "    \n",
        "# Check to make sure binning was successful\n",
        "application_df.CLASSIFICATION.value_counts()"
      ]
    },
    {
      "cell_type": "code",
      "execution_count": null,
      "id": "ad4e99a8",
      "metadata": {
        "id": "ad4e99a8"
      },
      "outputs": [],
      "source": [
        "# Generate our categorical variable lists\n",
        "application_cat = application_df.dtypes[application_df.dtypes == \"object\"].index.tolist()\n",
        "application_cat"
      ]
    },
    {
      "cell_type": "code",
      "execution_count": null,
      "id": "32814b26",
      "metadata": {
        "id": "32814b26"
      },
      "outputs": [],
      "source": [
        "# Create a OneHotEncoder instance\n",
        "enc = OneHotEncoder(sparse=False)\n",
        "\n",
        "# Fit and transform the OneHotEncoder using the categorical variable list\n",
        "encode_df = pd.DataFrame(enc.fit_transform(application_df[application_cat]))\n",
        "\n",
        "# Add the encoded variable names to the dataframe\n",
        "encode_df.columns = enc.get_feature_names(application_cat)\n",
        "encode_df.head()"
      ]
    },
    {
      "cell_type": "code",
      "execution_count": null,
      "id": "8925ba5c",
      "metadata": {
        "id": "8925ba5c"
      },
      "outputs": [],
      "source": [
        "# Merge one-hot encoded features and drop the originals\n",
        "application_df = application_df.merge(encode_df, left_index=True,right_index=True)\n",
        "application_df = application_df.drop(columns = application_cat)\n",
        "application_df.head()"
      ]
    },
    {
      "cell_type": "code",
      "execution_count": null,
      "id": "c216fb92",
      "metadata": {
        "id": "c216fb92"
      },
      "outputs": [],
      "source": [
        "# Split our preprocessed data into our features and target arrays\n",
        "y = application_df['IS_SUCCESSFUL'].values\n",
        "X = application_df.drop(['IS_SUCCESSFUL'],1).values\n",
        "# Split the preprocessed data into a training and testing dataset\n",
        "X_train, X_test, y_train, y_test = train_test_split(X, y, random_state=78)"
      ]
    },
    {
      "cell_type": "code",
      "execution_count": null,
      "id": "c7754f25",
      "metadata": {
        "id": "c7754f25"
      },
      "outputs": [],
      "source": [
        "# Create a StandardScaler instances\n",
        "scaler = StandardScaler()\n",
        "\n",
        "# Fit the StandardScaler\n",
        "X_scaler = scaler.fit(X_train)\n",
        "\n",
        "# Scale the data\n",
        "X_train_scaled = X_scaler.transform(X_train)\n",
        "X_test_scaled = X_scaler.transform(X_test)"
      ]
    },
    {
      "cell_type": "code",
      "execution_count": null,
      "id": "c5aee741",
      "metadata": {
        "id": "c5aee741"
      },
      "outputs": [],
      "source": [
        "# Define the model - deep neural net, i.e., the number of input features and hidden nodes for each layer.\n",
        "#  YOUR CODE GOES HERE\n",
        "\n",
        "number_input_features = len(X_train[0])\n",
        "hidden_nodes_layer1 = 80\n",
        "hidden_nodes_layer2 = 30\n",
        "\n",
        "nn = tf.keras.models.Sequential()\n",
        "\n",
        "# First hidden layer\n",
        "nn.add(tf.keras.layers.Dense(units=hidden_nodes_layer1, input_dim=number_input_features, activation=\"relu\"))\n",
        "\n",
        "# Second hidden layer\n",
        "nn.add(tf.keras.layers.Dense(units=hidden_nodes_layer2, activation=\"relu\"))\n",
        "\n",
        "# Output layer\n",
        "nn.add(tf.keras.layers.Dense(units=1, activation=\"sigmoid\"))\n",
        "\n",
        "# Check the structure of the model\n",
        "nn.summary()"
      ]
    },
    {
      "cell_type": "code",
      "execution_count": null,
      "id": "d60e4f25",
      "metadata": {
        "id": "d60e4f25"
      },
      "outputs": [],
      "source": [
        "# Import checkpoint dependencies\n",
        "import os\n",
        "from tensorflow.keras.callbacks import ModelCheckpoint\n",
        "\n",
        "# Define the checkpoint path and filenames\n",
        "os.makedirs(\"checkpoints/\",exist_ok=True)\n",
        "checkpoint_path = \"checkpoints/weights.{epoch:02d}.hdf5\""
      ]
    },
    {
      "cell_type": "code",
      "execution_count": null,
      "id": "d53bc7ac",
      "metadata": {
        "id": "d53bc7ac"
      },
      "outputs": [],
      "source": [
        "# Compile the model\n",
        "nn.compile(loss=\"binary_crossentropy\", optimizer=\"adam\", metrics=[\"accuracy\"])"
      ]
    },
    {
      "cell_type": "code",
      "execution_count": null,
      "id": "1a0acf0c",
      "metadata": {
        "id": "1a0acf0c"
      },
      "outputs": [],
      "source": [
        "# Create a callback that saves the model's weights every 5 epochs\n",
        "cp_callback = ModelCheckpoint(\n",
        "    filepath=checkpoint_path,\n",
        "    verbose=1,\n",
        "    save_weights_only=True,\n",
        "    save_freq=1000)"
      ]
    },
    {
      "cell_type": "code",
      "execution_count": null,
      "id": "447b1ab7",
      "metadata": {
        "id": "447b1ab7"
      },
      "outputs": [],
      "source": [
        "# Train the model\n",
        "fit_model = nn.fit(X_train, y_train,epochs=30)"
      ]
    },
    {
      "cell_type": "code",
      "execution_count": null,
      "id": "22437117",
      "metadata": {
        "id": "22437117"
      },
      "outputs": [],
      "source": [
        "# Evaluate the model using the test data\n",
        "model_loss, model_accuracy = nn.evaluate(X_test_scaled,y_test,verbose=2)\n",
        "print(f\"Loss: {model_loss}, Accuracy: {model_accuracy}\")"
      ]
    },
    {
      "cell_type": "code",
      "execution_count": null,
      "id": "0e2e05f4",
      "metadata": {
        "id": "0e2e05f4"
      },
      "outputs": [],
      "source": [
        "# Export our model to HDF5 file\n",
        "nn.save(\"AlphabetSoupCharity_Attempt1.h5\")"
      ]
    },
    {
      "cell_type": "markdown",
      "id": "42352721",
      "metadata": {
        "id": "42352721"
      },
      "source": [
        "Attempt 2: Adding Additional neurons to hidden layers and additional layers are added"
      ]
    },
    {
      "cell_type": "code",
      "execution_count": null,
      "id": "6fe37002",
      "metadata": {
        "id": "6fe37002"
      },
      "outputs": [],
      "source": [
        "# Define the model - deep neural net, i.e., the number of input features and hidden nodes for each layer.\n",
        "\n",
        "number_input_features = len(X_train[0])\n",
        "hidden_nodes_layer1 = 100\n",
        "hidden_nodes_layer2 = 50\n",
        "hidden_nodes_layer3 = 20\n",
        "\n",
        "nn = tf.keras.models.Sequential()\n",
        "\n",
        "# First hidden layer\n",
        "nn.add(tf.keras.layers.Dense(units=hidden_nodes_layer1, input_dim=number_input_features, activation=\"relu\"))\n",
        "\n",
        "# Second hidden layer\n",
        "nn.add(tf.keras.layers.Dense(units=hidden_nodes_layer2, activation=\"relu\"))\n",
        "\n",
        "# Third hidden layer\n",
        "nn.add(tf.keras.layers.Dense(units=hidden_nodes_layer3, activation=\"relu\"))\n",
        "\n",
        "\n",
        "# Output layer\n",
        "nn.add(tf.keras.layers.Dense(units=1, activation=\"sigmoid\"))\n",
        "\n",
        "# Check the structure of the model\n",
        "nn.summary()"
      ]
    },
    {
      "cell_type": "code",
      "execution_count": null,
      "id": "7f289fa3",
      "metadata": {
        "id": "7f289fa3"
      },
      "outputs": [],
      "source": [
        "# Import checkpoint dependencies\n",
        "import os\n",
        "from tensorflow.keras.callbacks import ModelCheckpoint\n",
        "\n",
        "# Define the checkpoint path and filenames\n",
        "os.makedirs(\"checkpoints/\",exist_ok=True)\n",
        "checkpoint_path = \"checkpoints/weights.{epoch:02d}.hdf5\""
      ]
    },
    {
      "cell_type": "code",
      "execution_count": null,
      "id": "6a461a13",
      "metadata": {
        "id": "6a461a13"
      },
      "outputs": [],
      "source": [
        "# Compile the model\n",
        "nn.compile(loss=\"binary_crossentropy\", optimizer=\"adam\", metrics=[\"accuracy\"])"
      ]
    },
    {
      "cell_type": "code",
      "execution_count": null,
      "id": "be238f97",
      "metadata": {
        "id": "be238f97"
      },
      "outputs": [],
      "source": [
        "# Create a callback that saves the model's weights every 5 epochs\n",
        "cp_callback = ModelCheckpoint(\n",
        "    filepath=checkpoint_path,\n",
        "    verbose=1,\n",
        "    save_weights_only=True,\n",
        "    save_freq=1000)"
      ]
    },
    {
      "cell_type": "code",
      "execution_count": null,
      "id": "b8b7a557",
      "metadata": {
        "id": "b8b7a557"
      },
      "outputs": [],
      "source": [
        "# Train the model\n",
        "fit_model = nn.fit(X_train, y_train,epochs=30)"
      ]
    },
    {
      "cell_type": "code",
      "execution_count": null,
      "id": "a1d4e61c",
      "metadata": {
        "id": "a1d4e61c"
      },
      "outputs": [],
      "source": [
        "# Evaluate the model using the test data\n",
        "model_loss, model_accuracy = nn.evaluate(X_test_scaled,y_test,verbose=2)\n",
        "print(f\"Loss: {model_loss}, Accuracy: {model_accuracy}\")"
      ]
    },
    {
      "cell_type": "code",
      "execution_count": null,
      "id": "83c5d08e",
      "metadata": {
        "id": "83c5d08e"
      },
      "outputs": [],
      "source": [
        "# Export our model to HDF5 file\n",
        "nn.save(\"AlphabetSoupCharity_Attempt2.h5\")"
      ]
    },
    {
      "cell_type": "markdown",
      "id": "7ef90f12",
      "metadata": {
        "id": "7ef90f12"
      },
      "source": [
        "Attempt 3: Changing activation function of output layer"
      ]
    },
    {
      "cell_type": "code",
      "execution_count": null,
      "id": "c4aef228",
      "metadata": {
        "id": "c4aef228"
      },
      "outputs": [],
      "source": [
        "# Define the model - deep neural net, i.e., the number of input features and hidden nodes for each layer.\n",
        "\n",
        "number_input_features = len(X_train[0])\n",
        "hidden_nodes_layer1 = 100\n",
        "hidden_nodes_layer2 = 50\n",
        "hidden_nodes_layer3 = 20\n",
        "\n",
        "nn = tf.keras.models.Sequential()\n",
        "\n",
        "# First hidden layer\n",
        "nn.add(tf.keras.layers.Dense(units=hidden_nodes_layer1, input_dim=number_input_features, activation=\"relu\"))\n",
        "\n",
        "# Second hidden layer\n",
        "nn.add(tf.keras.layers.Dense(units=hidden_nodes_layer2, activation=\"relu\"))\n",
        "\n",
        "# Third hidden layer\n",
        "nn.add(tf.keras.layers.Dense(units=hidden_nodes_layer3, activation=\"relu\"))\n",
        "\n",
        "\n",
        "# Output layer\n",
        "nn.add(tf.keras.layers.Dense(units=1, activation=\"tanh\"))\n",
        "\n",
        "# Check the structure of the model\n",
        "nn.summary()"
      ]
    },
    {
      "cell_type": "code",
      "execution_count": null,
      "id": "0ff03f49",
      "metadata": {
        "id": "0ff03f49"
      },
      "outputs": [],
      "source": [
        "# Import checkpoint dependencies\n",
        "import os\n",
        "from tensorflow.keras.callbacks import ModelCheckpoint\n",
        "\n",
        "# Define the checkpoint path and filenames\n",
        "os.makedirs(\"checkpoints/\",exist_ok=True)\n",
        "checkpoint_path = \"checkpoints/weights.{epoch:02d}.hdf5\""
      ]
    },
    {
      "cell_type": "code",
      "execution_count": null,
      "id": "94be7c6c",
      "metadata": {
        "id": "94be7c6c"
      },
      "outputs": [],
      "source": [
        "# Compile the model\n",
        "nn.compile(loss=\"binary_crossentropy\", optimizer=\"adam\", metrics=[\"accuracy\"])"
      ]
    },
    {
      "cell_type": "code",
      "execution_count": null,
      "id": "9ef5e370",
      "metadata": {
        "id": "9ef5e370"
      },
      "outputs": [],
      "source": [
        "# Create a callback that saves the model's weights every 5 epochs\n",
        "cp_callback = ModelCheckpoint(\n",
        "    filepath=checkpoint_path,\n",
        "    verbose=1,\n",
        "    save_weights_only=True,\n",
        "    save_freq=1000)"
      ]
    },
    {
      "cell_type": "code",
      "execution_count": null,
      "id": "e0996547",
      "metadata": {
        "id": "e0996547"
      },
      "outputs": [],
      "source": [
        "# Train the model\n",
        "fit_model = nn.fit(X_train, y_train,epochs=30)"
      ]
    },
    {
      "cell_type": "code",
      "execution_count": null,
      "id": "379b3def",
      "metadata": {
        "id": "379b3def"
      },
      "outputs": [],
      "source": [
        "# Evaluate the model using the test data\n",
        "model_loss, model_accuracy = nn.evaluate(X_test_scaled,y_test,verbose=2)\n",
        "print(f\"Loss: {model_loss}, Accuracy: {model_accuracy}\")"
      ]
    },
    {
      "cell_type": "code",
      "execution_count": null,
      "id": "8a7ef54d",
      "metadata": {
        "id": "8a7ef54d"
      },
      "outputs": [],
      "source": [
        "# Export our model to HDF5 file\n",
        "nn.save(\"AlphabetSoupCharity_Optimization.h5\")"
      ]
    },
    {
      "cell_type": "code",
      "execution_count": null,
      "id": "7ff404de",
      "metadata": {
        "id": "7ff404de"
      },
      "outputs": [],
      "source": [
        ""
      ]
    }
  ],
  "metadata": {
    "kernelspec": {
      "display_name": "mlenv",
      "language": "python",
      "name": "mlenv"
    },
    "language_info": {
      "codemirror_mode": {
        "name": "ipython",
        "version": 3
      },
      "file_extension": ".py",
      "mimetype": "text/x-python",
      "name": "python",
      "nbconvert_exporter": "python",
      "pygments_lexer": "ipython3",
      "version": "3.8.8"
    },
    "colab": {
      "name": "AlphabetSoupCharity.Optimization.h5",
      "provenance": [],
      "collapsed_sections": [],
      "include_colab_link": true
    }
  },
  "nbformat": 4,
  "nbformat_minor": 5
}